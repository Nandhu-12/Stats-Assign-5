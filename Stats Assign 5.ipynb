{
 "cells": [
  {
   "cell_type": "markdown",
   "id": "0e7f7240",
   "metadata": {},
   "source": [
    "1. How are you going to figure out the average heights of all the trees in\n",
    "Karnataka?"
   ]
  },
  {
   "cell_type": "markdown",
   "id": "9a73c4cd",
   "metadata": {},
   "source": [
    "By using Mean we can calculate the average height of all trees"
   ]
  },
  {
   "cell_type": "markdown",
   "id": "397064b9",
   "metadata": {},
   "source": [
    "2. What is hypothesis testing and how does it work?"
   ]
  },
  {
   "cell_type": "markdown",
   "id": "043feaf1",
   "metadata": {},
   "source": [
    "In Hypothesis testing we perform some statistical analysis in the sample data for the population data to bring some conclusions,                                                                                                               \n",
    "We take a sample data -----> perform various Experiments like Z test, T test, F test, Annova test, chisquare test-----> conclusions regarding Population data."
   ]
  },
  {
   "cell_type": "markdown",
   "id": "60cf9936",
   "metadata": {},
   "source": [
    "3. Explain the differences between Alpha and Beta errors. Which inaccuracy is the\n",
    "most hazardous?"
   ]
  },
  {
   "cell_type": "markdown",
   "id": "b7beb42b",
   "metadata": {},
   "source": [
    "Alpha and Beta errors are said to be confusion matrix and both are most dangerous."
   ]
  },
  {
   "cell_type": "markdown",
   "id": "933f3726",
   "metadata": {},
   "source": [
    "4. What is the significance of the p-value?"
   ]
  },
  {
   "cell_type": "markdown",
   "id": "563964b3",
   "metadata": {},
   "source": [
    "P-Value is decided based on the statistical experiment."
   ]
  },
  {
   "cell_type": "markdown",
   "id": "13e89cc5",
   "metadata": {},
   "source": [
    "5. What is the Probability Distribution Function and how does it work?"
   ]
  },
  {
   "cell_type": "markdown",
   "id": "492a9764",
   "metadata": {},
   "source": [
    "Pdf is the smoothening of histogram. It is done withe the help of Kernal Density Estimator (KDE)"
   ]
  },
  {
   "cell_type": "code",
   "execution_count": null,
   "id": "df44234b",
   "metadata": {},
   "outputs": [],
   "source": []
  }
 ],
 "metadata": {
  "kernelspec": {
   "display_name": "Python 3 (ipykernel)",
   "language": "python",
   "name": "python3"
  },
  "language_info": {
   "codemirror_mode": {
    "name": "ipython",
    "version": 3
   },
   "file_extension": ".py",
   "mimetype": "text/x-python",
   "name": "python",
   "nbconvert_exporter": "python",
   "pygments_lexer": "ipython3",
   "version": "3.9.7"
  }
 },
 "nbformat": 4,
 "nbformat_minor": 5
}
